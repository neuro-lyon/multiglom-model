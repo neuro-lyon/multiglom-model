{
 "metadata": {
  "name": "Complete Network"
 },
 "nbformat": 3,
 "nbformat_minor": 0,
 "worksheets": [
  {
   "cells": [
    {
     "cell_type": "code",
     "collapsed": false,
     "input": [
      "from network_input import NetworkInput\n",
      "from mitral_cells import MitralCells\n",
      "from synapse import Synapse\n",
      "from granule_cells import GranuleCells\n",
      "from brian import *\n",
      "import parameters as ps\n",
      "\n",
      "psmt = ps.Mitral()\n",
      "psgr = ps.Granule()"
     ],
     "language": "python",
     "metadata": {},
     "outputs": [
      {
       "output_type": "stream",
       "stream": "stderr",
       "text": [
        "/usr/lib/pymodules/python2.7/brian/utils/sparse_patch/__init__.py:36: UserWarning: Couldn't find matching sparse matrix patch for scipy version 0.10.1, but in most cases this shouldn't be a problem.\n",
        "  warnings.warn(\"Couldn't find matching sparse matrix patch for scipy version %s, but in most cases this shouldn't be a problem.\" % scipy.__version__)\n"
       ]
      }
     ],
     "prompt_number": 1
    },
    {
     "cell_type": "markdown",
     "metadata": {},
     "source": [
      "## Network Input"
     ]
    },
    {
     "cell_type": "code",
     "collapsed": false,
     "input": [
      "netin = NetworkInput()\n",
      "netin.set_eqs_model()\n",
      "netin.eqs_model"
     ],
     "language": "python",
     "metadata": {},
     "outputs": [
      {
       "output_type": "pyout",
       "prompt_number": 2,
       "text": [
        "dg_Ein/dt = (g_Ein0 - g_Ein)/tau_Ein + sigma_Ein * xi [diffeq]\n",
        "I_input = g_Ein*(V - 0*mvolt) [eq]\n"
       ]
      }
     ],
     "prompt_number": 2
    },
    {
     "cell_type": "markdown",
     "metadata": {},
     "source": [
      "## Synapses"
     ]
    },
    {
     "cell_type": "code",
     "collapsed": false,
     "input": [
      "synexc = Synapse(synapse_type='exc')\n",
      "synexc.set_eqs_model()\n",
      "syninhib = Synapse(synapse_type='inhib')\n",
      "syninhib.set_eqs_model()"
     ],
     "language": "python",
     "metadata": {},
     "outputs": [],
     "prompt_number": 3
    },
    {
     "cell_type": "markdown",
     "metadata": {},
     "source": [
      "## Mitral Cells"
     ]
    },
    {
     "cell_type": "code",
     "collapsed": false,
     "input": [
      "N_mitral = 100\n",
      "mt = MitralCells()\n",
      "mt_supp_eqs = {'var': ['-I_input', '-I_syn'],\n",
      "               'eqs': [netin.get_eqs_model(), synexc.get_eqs_model()]}\n",
      "mt.add_eqs(supp_eqs=mt_supp_eqs)\n",
      "mt.make_pop(N_mitral)\n",
      "mt.pop.V = psmt.E_L\n",
      "mt.eqs_model"
     ],
     "language": "python",
     "metadata": {},
     "outputs": [
      {
       "output_type": "pyout",
       "prompt_number": 4,
       "text": [
        "dV/dt = (-g_L*(V - E_L) -(g_Ein*(V - 0*I_input_mvolt)) -(I_syn_g_I * s_syn * (V - I_syn_V_I)))/C_m [diffeq]\n",
        "ds/dt = alpha_E * (1 - s) * T - beta_E * s [diffeq]\n",
        "dg_Ein/dt = (g_Ein0 - g_Ein)/tau_Ein + sigma_Ein * xi [diffeq]\n",
        "dT/dt = 0*1/second [diffeq]\n",
        "ds_syn/dt = 0*1/second [diffeq]\n",
        "I_input = g_Ein*(V - 0*I_input_mvolt) [eq]\n",
        "I_syn = I_syn_g_I * s_syn * (V - I_syn_V_I) [eq]\n"
       ]
      }
     ],
     "prompt_number": 4
    },
    {
     "cell_type": "markdown",
     "metadata": {},
     "source": [
      "## Granule Cells"
     ]
    },
    {
     "cell_type": "code",
     "collapsed": false,
     "input": [
      "N_granule = 1\n",
      "gr = GranuleCells()\n",
      "gr_supp_eqs = {'var': ['-I_syn'],\n",
      "               'eqs': [syninhib.get_eqs_model()]}\n",
      "gr.add_eqs(supp_eqs=gr_supp_eqs)\n",
      "gr.eqs_model\n",
      "gr.make_pop(N_granule)\n",
      "gr.pop.V_D = psgr.E_L\n",
      "gr.pop.V_S = psgr.E_L\n",
      "gr.eqs_model"
     ],
     "language": "python",
     "metadata": {},
     "outputs": [
      {
       "output_type": "pyout",
       "prompt_number": 5,
       "text": [
        "dV_D/dt = (-g_L*(V_D - E_L) + g_DS*(V_S - V_D) -(I_syn_g_E * s_syn * (V_D - I_syn_V_E)))/C_m [diffeq]\n",
        "ds/dt = alpha_I * (1 - s) * (1/(1 + exp(-1*(V_D - T_V_act_I)/T_sigma_I))) - beta_I * s [diffeq]\n",
        "ds_syn/dt = 0*1/second [diffeq]\n",
        "dV_S/dt = (-g_L*(V_S - E_L) + g_SD*(V_D - V_S))/C_m [diffeq]\n",
        "T = 1/(1 + exp(-1*(V_D - T_V_act_I)/T_sigma_I)) [eq]\n",
        "I_syn = I_syn_g_E * s_syn * (V_D - I_syn_V_E) [eq]\n"
       ]
      }
     ],
     "prompt_number": 5
    },
    {
     "cell_type": "markdown",
     "metadata": {},
     "source": [
      "## Connecting mt--gr"
     ]
    },
    {
     "cell_type": "code",
     "collapsed": false,
     "input": [
      "connections = ones((N_mitral,N_granule))\n",
      "@network_operation(when='start')\n",
      "def graded_synapse():\n",
      "    #connections\n",
      "    mt.pop.state('T')[:]=0.\n",
      "    mt.pop.state('T')[mt.pop.get_refractory_indices()]=1.\n",
      "    gr.pop.s_syn = dot(mt.pop.s, connections)\n",
      "    mt.pop.s_syn = dot(gr.pop.s, transpose(connections))\n",
      "\n",
      "@network_operation(when='after_groups')\n",
      "def keep_reset():\n",
      "    mt.pop.state('V')[mt.pop.get_refractory_indices()] = psmt.V_r"
     ],
     "language": "python",
     "metadata": {},
     "outputs": [],
     "prompt_number": 6
    },
    {
     "cell_type": "markdown",
     "metadata": {},
     "source": [
      "## Simulation"
     ]
    },
    {
     "cell_type": "code",
     "collapsed": false,
     "input": [
      "defaultclock.dt = 0.05*msecond\n",
      "t_simu = 5000*msecond\n",
      "monit_granules = {}\n",
      "monit_mitrales = {}\n",
      "for pname in ('V_D', 's_syn', 's'):\n",
      "    monit_granules[pname] = StateMonitor(gr.pop, pname, record=True)\n",
      "for pname in ('s', 'V'):\n",
      "    monit_mitrales[pname] = StateMonitor(mt.pop, pname, record=0)\n",
      "monit_mitrales['spikes'] = SpikeMonitor(mt.pop, record=True)\n",
      "nn = Network(mt.pop, gr.pop, [mgr for mgr in monit_granules.values()], [mmt for mmt in monit_mitrales.values()],\n",
      "             graded_synapse, keep_reset)"
     ],
     "language": "python",
     "metadata": {},
     "outputs": [],
     "prompt_number": 7
    },
    {
     "cell_type": "code",
     "collapsed": false,
     "input": [
      "nn.run(t_simu, report='text')"
     ],
     "language": "python",
     "metadata": {},
     "outputs": [
      {
       "output_type": "stream",
       "stream": "stdout",
       "text": [
        "9% complete, 10s elapsed, approximately 1m 34s remaining.\n"
       ]
      },
      {
       "output_type": "stream",
       "stream": "stdout",
       "text": [
        "19% complete, 20s elapsed, approximately 1m 24s remaining.\n"
       ]
      },
      {
       "output_type": "stream",
       "stream": "stdout",
       "text": [
        "28% complete, 30s elapsed, approximately 1m 14s remaining.\n"
       ]
      },
      {
       "output_type": "stream",
       "stream": "stdout",
       "text": [
        "38% complete, 40s elapsed, approximately 1m 4s remaining.\n"
       ]
      },
      {
       "output_type": "stream",
       "stream": "stdout",
       "text": [
        "47% complete, 50s elapsed, approximately 54s remaining.\n"
       ]
      },
      {
       "output_type": "stream",
       "stream": "stdout",
       "text": [
        "57% complete, 1m 0s elapsed, approximately 44s remaining.\n"
       ]
      },
      {
       "output_type": "stream",
       "stream": "stdout",
       "text": [
        "67% complete, 1m 10s elapsed, approximately 34s remaining.\n"
       ]
      },
      {
       "output_type": "stream",
       "stream": "stdout",
       "text": [
        "76% complete, 1m 20s elapsed, approximately 24s remaining.\n"
       ]
      },
      {
       "output_type": "stream",
       "stream": "stdout",
       "text": [
        "86% complete, 1m 30s elapsed, approximately 14s remaining.\n"
       ]
      },
      {
       "output_type": "stream",
       "stream": "stdout",
       "text": [
        "95% complete, 1m 40s elapsed, approximately 4s remaining.\n"
       ]
      },
      {
       "output_type": "stream",
       "stream": "stdout",
       "text": [
        "100% complete, 1m 44s elapsed, approximately 0s remaining.\n"
       ]
      }
     ],
     "prompt_number": 8
    },
    {
     "cell_type": "markdown",
     "metadata": {},
     "source": [
      "## R\u00e9sultats"
     ]
    },
    {
     "cell_type": "code",
     "collapsed": false,
     "input": [
      "figure()\n",
      "plot(monit_granules['V_D'].times/msecond, monit_granules['V_D'][0]/mvolt)\n",
      "xlabel('time (ms)')\n",
      "ylabel('membrane potential of granule : V_D (mvolt)')"
     ],
     "language": "python",
     "metadata": {},
     "outputs": [
      {
       "output_type": "pyout",
       "prompt_number": 9,
       "text": [
        "<matplotlib.text.Text at 0x68e1090>"
       ]
      }
     ],
     "prompt_number": 9
    },
    {
     "cell_type": "code",
     "collapsed": false,
     "input": [
      "figure()\n",
      "plot(monit_mitrales['V'].times / msecond, monit_mitrales['V'][0]/mvolt)\n",
      "xlabel('time (ms)')\n",
      "ylabel('membrane potential of mitral : V (mvolt)')"
     ],
     "language": "python",
     "metadata": {},
     "outputs": [
      {
       "output_type": "pyout",
       "prompt_number": 10,
       "text": [
        "<matplotlib.text.Text at 0xa0427d0>"
       ]
      }
     ],
     "prompt_number": 10
    },
    {
     "cell_type": "code",
     "collapsed": false,
     "input": [
      "figure()\n",
      "plot(monit_mitrales['s'].times / msecond, monit_mitrales['s'][0])\n",
      "plot(monit_granules['s_syn'].times / msecond, monit_granules['s_syn'][0])\n",
      "plot(monit_granules['s'].times / msecond, monit_granules['s'][0])\n",
      "xlabel('time (ms)')\n",
      "ylabel('s mitral & s_syn granule & s granule')"
     ],
     "language": "python",
     "metadata": {},
     "outputs": [
      {
       "output_type": "pyout",
       "prompt_number": 11,
       "text": [
        "<matplotlib.text.Text at 0xa071050>"
       ]
      }
     ],
     "prompt_number": 11
    },
    {
     "cell_type": "code",
     "collapsed": false,
     "input": [
      "print 'Spikes of', N_mitral, ' mitral:', monit_mitrales['spikes'].nspikes\n",
      "raster_plot(monit_mitrales['spikes'], newfigure=True)"
     ],
     "language": "python",
     "metadata": {},
     "outputs": [
      {
       "output_type": "stream",
       "stream": "stdout",
       "text": [
        "Spikes of 100  mitral: 1084\n"
       ]
      }
     ],
     "prompt_number": 12
    },
    {
     "cell_type": "code",
     "collapsed": false,
     "input": [
      "show()"
     ],
     "language": "python",
     "metadata": {},
     "outputs": [],
     "prompt_number": 13
    }
   ],
   "metadata": {}
  }
 ]
}