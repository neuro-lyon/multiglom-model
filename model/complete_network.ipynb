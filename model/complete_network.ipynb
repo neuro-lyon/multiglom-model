{
 "metadata": {
  "name": "complete_network"
 },
 "nbformat": 3,
 "nbformat_minor": 0,
 "worksheets": [
  {
   "cells": [
    {
     "cell_type": "markdown",
     "metadata": {},
     "source": [
      "# Complete Network"
     ]
    },
    {
     "cell_type": "code",
     "collapsed": false,
     "input": [
      "from network_input import NetworkInput\n",
      "from mitral_cells import MitralCells\n",
      "from synapse import Synapse\n",
      "from granule_cells import GranuleCells\n",
      "from brian import *\n",
      "import parameters as ps\n",
      "\n",
      "psmt = ps.Mitral()\n",
      "psgr = ps.Granule()"
     ],
     "language": "python",
     "metadata": {},
     "outputs": [
      {
       "output_type": "stream",
       "stream": "stderr",
       "text": [
        "/usr/lib/pymodules/python2.7/brian/utils/sparse_patch/__init__.py:36: UserWarning: Couldn't find matching sparse matrix patch for scipy version 0.10.1, but in most cases this shouldn't be a problem.\n",
        "  warnings.warn(\"Couldn't find matching sparse matrix patch for scipy version %s, but in most cases this shouldn't be a problem.\" % scipy.__version__)\n"
       ]
      }
     ],
     "prompt_number": 1
    },
    {
     "cell_type": "code",
     "collapsed": false,
     "input": [
      "clear(erase=True, all=True)\n",
      "defaultclock.reinit()"
     ],
     "language": "python",
     "metadata": {},
     "outputs": [],
     "prompt_number": 2
    },
    {
     "cell_type": "markdown",
     "metadata": {},
     "source": [
      "## Network Input"
     ]
    },
    {
     "cell_type": "markdown",
     "metadata": {},
     "source": [
      "Create and initialize it"
     ]
    },
    {
     "cell_type": "code",
     "collapsed": false,
     "input": [
      "netin = NetworkInput()\n",
      "netin.set_eqs_model()\n",
      "netin.get_eqs_model()"
     ],
     "language": "python",
     "metadata": {},
     "outputs": [
      {
       "output_type": "pyout",
       "prompt_number": 3,
       "text": [
        "dg_Ein/dt = (g_Ein0 - g_Ein)/tau_Ein + sigma_Ein * xi [diffeq]\n",
        "I_input = g_Ein*(V - 0*mvolt) [eq]\n"
       ]
      }
     ],
     "prompt_number": 3
    },
    {
     "cell_type": "markdown",
     "metadata": {},
     "source": [
      "## Synapses"
     ]
    },
    {
     "cell_type": "markdown",
     "metadata": {},
     "source": [
      "Excitatory synapse (mitral --> granule)"
     ]
    },
    {
     "cell_type": "code",
     "collapsed": false,
     "input": [
      "synexc = Synapse(synapse_type='exc')\n",
      "synexc.set_eqs_model()\n",
      "synexc.get_eqs_model()"
     ],
     "language": "python",
     "metadata": {},
     "outputs": [
      {
       "output_type": "pyout",
       "prompt_number": 4,
       "text": [
        "ds/dt = alpha_E * (1 - s) * T - beta_E * s [diffeq]\n",
        "dT/dt = 0*1/second [diffeq]\n",
        "ds_syn/dt = 0*1/second [diffeq]\n",
        "I_syn = g_I * s_syn * (V - V_I) [eq]\n"
       ]
      }
     ],
     "prompt_number": 4
    },
    {
     "cell_type": "markdown",
     "metadata": {},
     "source": [
      "Inhibitory synapse (granule --> mitral)"
     ]
    },
    {
     "cell_type": "code",
     "collapsed": false,
     "input": [
      "syninhib = Synapse(synapse_type='inhib')\n",
      "syninhib.set_eqs_model()\n",
      "syninhib.get_eqs_model()"
     ],
     "language": "python",
     "metadata": {},
     "outputs": [
      {
       "output_type": "pyout",
       "prompt_number": 5,
       "text": [
        "ds/dt = alpha_I * (1 - s) * T - beta_I * s [diffeq]\n",
        "ds_syn/dt = 0*1/second [diffeq]\n",
        "I_syn = g_E * s_syn * (V_D - V_E) [eq]\n",
        "T = 1/(1 + exp(-1*(V_D - V_act_I)/sigma_I)) [eq]\n"
       ]
      }
     ],
     "prompt_number": 5
    },
    {
     "cell_type": "markdown",
     "metadata": {},
     "source": [
      "## Mitral Cells"
     ]
    },
    {
     "cell_type": "markdown",
     "metadata": {},
     "source": [
      "Create the mitral cells"
     ]
    },
    {
     "cell_type": "code",
     "collapsed": false,
     "input": [
      "N_mitral = 100\n",
      "mt = MitralCells()"
     ],
     "language": "python",
     "metadata": {},
     "outputs": [],
     "prompt_number": 6
    },
    {
     "cell_type": "markdown",
     "metadata": {},
     "source": [
      "Initialize it with the default equation model and input and synaptic currents"
     ]
    },
    {
     "cell_type": "code",
     "collapsed": false,
     "input": [
      "mt_supp_eqs = {'var': ['-I_input', '-I_syn'],\n",
      "               'eqs': [netin.get_eqs_model(), synexc.get_eqs_model()]}\n",
      "mt.add_eqs(supp_eqs=mt_supp_eqs)\n",
      "print mt.eqs_model"
     ],
     "language": "python",
     "metadata": {},
     "outputs": [
      {
       "output_type": "stream",
       "stream": "stdout",
       "text": [
        "dV/dt = (-g_L*(V - E_L) -I_input -I_syn)/C_m [diffeq]\n",
        "ds/dt = alpha_E * (1 - s) * T - beta_E * s [diffeq]\n",
        "dg_Ein/dt = (g_Ein0 - g_Ein)/tau_Ein + sigma_Ein * xi [diffeq]\n",
        "dT/dt = 0*1/second [diffeq]\n",
        "ds_syn/dt = 0*1/second [diffeq]\n",
        "I_input = g_Ein*(V - 0*mvolt) [eq]\n",
        "I_syn = g_I * s_syn * (V - V_I) [eq]\n",
        "\n"
       ]
      }
     ],
     "prompt_number": 7
    },
    {
     "cell_type": "markdown",
     "metadata": {},
     "source": [
      "Create the ``NeuronGroup`` of mitral cells and initialize their membrane potential"
     ]
    },
    {
     "cell_type": "code",
     "collapsed": false,
     "input": [
      "mt.make_pop(N_mitral)\n",
      "mt.pop.V = psmt.E_L"
     ],
     "language": "python",
     "metadata": {},
     "outputs": [],
     "prompt_number": 8
    },
    {
     "cell_type": "markdown",
     "metadata": {},
     "source": [
      "## Granule Cells"
     ]
    },
    {
     "cell_type": "markdown",
     "metadata": {},
     "source": [
      "Create the granule cells"
     ]
    },
    {
     "cell_type": "code",
     "collapsed": false,
     "input": [
      "N_granule = 1\n",
      "gr = GranuleCells()"
     ],
     "language": "python",
     "metadata": {},
     "outputs": [],
     "prompt_number": 9
    },
    {
     "cell_type": "markdown",
     "metadata": {},
     "source": [
      "Add the equation model with the synaptic current"
     ]
    },
    {
     "cell_type": "code",
     "collapsed": false,
     "input": [
      "gr_supp_eqs = {'var': ['-I_syn'],\n",
      "               'eqs': [syninhib.get_eqs_model()]}\n",
      "gr.add_eqs(supp_eqs=gr_supp_eqs)\n",
      "print gr.eqs_model"
     ],
     "language": "python",
     "metadata": {},
     "outputs": [
      {
       "output_type": "stream",
       "stream": "stdout",
       "text": [
        "dV_D/dt = (-g_L*(V_D - E_L) + g_DS*(V_S - V_D) -I_syn)/C_m [diffeq]\n",
        "ds/dt = alpha_I * (1 - s) * T - beta_I * s [diffeq]\n",
        "ds_syn/dt = 0*1/second [diffeq]\n",
        "dV_S/dt = (-g_L*(V_S - E_L) + g_SD*(V_D - V_S))/C_m [diffeq]\n",
        "T = 1/(1 + exp(-1*(V_D - V_act_I)/sigma_I)) [eq]\n",
        "I_syn = g_E * s_syn * (V_D - V_E) [eq]\n",
        "\n"
       ]
      }
     ],
     "prompt_number": 10
    },
    {
     "cell_type": "markdown",
     "metadata": {},
     "source": [
      "Create the ``NeuronGroup`` of granule cells and initialize their membrane potential"
     ]
    },
    {
     "cell_type": "code",
     "collapsed": false,
     "input": [
      "gr.make_pop(N_granule)\n",
      "gr.pop.V_D = psgr.E_L\n",
      "gr.pop.V_S = psgr.E_L"
     ],
     "language": "python",
     "metadata": {},
     "outputs": [],
     "prompt_number": 11
    },
    {
     "cell_type": "markdown",
     "metadata": {},
     "source": [
      "## Connecting mitral and granule cells"
     ]
    },
    {
     "cell_type": "markdown",
     "metadata": {},
     "source": [
      "Setting the connections between mitral and granule cells"
     ]
    },
    {
     "cell_type": "code",
     "collapsed": false,
     "input": [
      "connections = ones((N_mitral,N_granule))\n",
      "@network_operation(when='start')\n",
      "def graded_synapse():\n",
      "    #connections\n",
      "    mt.pop.state('T')[:]=0.\n",
      "    mt.pop.state('T')[mt.pop.get_refractory_indices()]=1.\n",
      "    gr.pop.s_syn = dot(mt.pop.s, connections)\n",
      "    mt.pop.s_syn = dot(gr.pop.s, transpose(connections))\n",
      "\n",
      "@network_operation(when='after_groups')\n",
      "def keep_reset():\n",
      "    mt.pop.state('V')[mt.pop.get_refractory_indices()] = psmt.V_r"
     ],
     "language": "python",
     "metadata": {},
     "outputs": [],
     "prompt_number": 12
    },
    {
     "cell_type": "markdown",
     "metadata": {},
     "source": [
      "## Simulation"
     ]
    },
    {
     "cell_type": "markdown",
     "metadata": {},
     "source": [
      "Simulation parameters"
     ]
    },
    {
     "cell_type": "code",
     "collapsed": false,
     "input": [
      "defaultclock.dt = 0.02*msecond\n",
      "t_simu = 2000*msecond"
     ],
     "language": "python",
     "metadata": {},
     "outputs": [],
     "prompt_number": 13
    },
    {
     "cell_type": "markdown",
     "metadata": {},
     "source": [
      "Setting the monitors"
     ]
    },
    {
     "cell_type": "code",
     "collapsed": false,
     "input": [
      "monit_mitral = {}\n",
      "monit_granule = {}\n",
      "rec_mitral = [0, N_mitral/2, N_mitral-1]\n",
      "for pname in ('s', 's_syn', 'V', 'T', 'g_Ein'):\n",
      "    monit_mitral[pname] = StateMonitor(mt.pop, pname, record=rec_mitral)\n",
      "for pname in ('V_D', 's_syn', 's', 'T'):\n",
      "    monit_granule[pname] = StateMonitor(gr.pop, pname, record=True)\n",
      "monit_mitral['spikes'] = SpikeMonitor(mt.pop, record=True)"
     ],
     "language": "python",
     "metadata": {},
     "outputs": [],
     "prompt_number": 14
    },
    {
     "cell_type": "markdown",
     "metadata": {},
     "source": [
      "Creating and running the network"
     ]
    },
    {
     "cell_type": "code",
     "collapsed": false,
     "input": [
      "nn = Network(mt.pop, gr.pop, [mgr for mgr in monit_granule.values()], [mmt for mmt in monit_mitral.values()],\n",
      "             graded_synapse, keep_reset)\n",
      "nn.run(t_simu, report='text')"
     ],
     "language": "python",
     "metadata": {},
     "outputs": [
      {
       "output_type": "stream",
       "stream": "stdout",
       "text": [
        "6% complete, 10s elapsed, approximately 2m 29s remaining.\n"
       ]
      },
      {
       "output_type": "stream",
       "stream": "stdout",
       "text": [
        "12% complete, 20s elapsed, approximately 2m 20s remaining.\n"
       ]
      },
      {
       "output_type": "stream",
       "stream": "stdout",
       "text": [
        "18% complete, 30s elapsed, approximately 2m 9s remaining.\n"
       ]
      },
      {
       "output_type": "stream",
       "stream": "stdout",
       "text": [
        "25% complete, 40s elapsed, approximately 1m 59s remaining.\n"
       ]
      },
      {
       "output_type": "stream",
       "stream": "stdout",
       "text": [
        "31% complete, 50s elapsed, approximately 1m 50s remaining.\n"
       ]
      },
      {
       "output_type": "stream",
       "stream": "stdout",
       "text": [
        "37% complete, 1m 0s elapsed, approximately 1m 40s remaining.\n"
       ]
      },
      {
       "output_type": "stream",
       "stream": "stdout",
       "text": [
        "43% complete, 1m 10s elapsed, approximately 1m 31s remaining.\n"
       ]
      },
      {
       "output_type": "stream",
       "stream": "stdout",
       "text": [
        "49% complete, 1m 20s elapsed, approximately 1m 21s remaining.\n"
       ]
      },
      {
       "output_type": "stream",
       "stream": "stdout",
       "text": [
        "55% complete, 1m 30s elapsed, approximately 1m 10s remaining.\n"
       ]
      },
      {
       "output_type": "stream",
       "stream": "stdout",
       "text": [
        "62% complete, 1m 40s elapsed, approximately 1m 0s remaining.\n"
       ]
      },
      {
       "output_type": "stream",
       "stream": "stdout",
       "text": [
        "68% complete, 1m 50s elapsed, approximately 49s remaining.\n"
       ]
      },
      {
       "output_type": "stream",
       "stream": "stdout",
       "text": [
        "74% complete, 2m 0s elapsed, approximately 40s remaining.\n"
       ]
      },
      {
       "output_type": "stream",
       "stream": "stdout",
       "text": [
        "80% complete, 2m 10s elapsed, approximately 32s remaining.\n"
       ]
      },
      {
       "output_type": "stream",
       "stream": "stdout",
       "text": [
        "85% complete, 2m 20s elapsed, approximately 24s remaining.\n"
       ]
      },
      {
       "output_type": "stream",
       "stream": "stdout",
       "text": [
        "91% complete, 2m 30s elapsed, approximately 14s remaining.\n"
       ]
      },
      {
       "output_type": "stream",
       "stream": "stdout",
       "text": [
        "96% complete, 2m 40s elapsed, approximately 4s remaining.\n"
       ]
      },
      {
       "output_type": "stream",
       "stream": "stdout",
       "text": [
        "100% complete, 2m 44s elapsed, approximately 0s remaining.\n"
       ]
      }
     ],
     "prompt_number": 15
    },
    {
     "cell_type": "markdown",
     "metadata": {},
     "source": [
      "## Results"
     ]
    },
    {
     "cell_type": "markdown",
     "metadata": {},
     "source": [
      "Granule membrane potential over time"
     ]
    },
    {
     "cell_type": "code",
     "collapsed": false,
     "input": [
      "figure()\n",
      "plot(monit_granule['V_D'].times/msecond, monit_granule['V_D'][0]/mvolt)\n",
      "xlabel('time (ms)')\n",
      "ylabel('membrane potential of granule : V_D (mvolt)')"
     ],
     "language": "python",
     "metadata": {},
     "outputs": [
      {
       "output_type": "pyout",
       "prompt_number": 16,
       "text": [
        "<matplotlib.text.Text at 0x4800950>"
       ]
      }
     ],
     "prompt_number": 16
    },
    {
     "cell_type": "markdown",
     "metadata": {},
     "source": [
      "Mitral membrane potential over time"
     ]
    },
    {
     "cell_type": "code",
     "collapsed": false,
     "input": [
      "figure()\n",
      "for n in rec_mitral:\n",
      "    plot(monit_mitral['V'].times / msecond, monit_mitral['V'][n]/mvolt, label=\"mitral #\"+str(n))\n",
      "legend()\n",
      "xlabel('time (ms)')\n",
      "ylabel('membrane potential of mitral : V (mvolt)')"
     ],
     "language": "python",
     "metadata": {},
     "outputs": [
      {
       "output_type": "pyout",
       "prompt_number": 17,
       "text": [
        "<matplotlib.text.Text at 0xf85f790>"
       ]
      }
     ],
     "prompt_number": 17
    },
    {
     "cell_type": "markdown",
     "metadata": {},
     "source": [
      "``s`` and ``s_syn`` from mitral and granule cells"
     ]
    },
    {
     "cell_type": "code",
     "collapsed": false,
     "input": [
      "figure()\n",
      "plot(monit_mitral['s'].times/msecond, monit_mitral['s'][0], label=\"s mitral\")\n",
      "plot(monit_mitral['s_syn'].times/msecond, monit_mitral['s_syn'][0], label=\"s_syn mitral\")\n",
      "plot(monit_granule['s_syn'].times/msecond, monit_granule['s_syn'][0], label=\"s_syn granule\")\n",
      "plot(monit_granule['s'].times/msecond, monit_granule['s'][0], label=\"s granule\")\n",
      "legend()\n",
      "xlabel('time (ms)')\n",
      "ylabel('s mitral & s_syn granule & s granule')"
     ],
     "language": "python",
     "metadata": {},
     "outputs": [
      {
       "output_type": "pyout",
       "prompt_number": 18,
       "text": [
        "<matplotlib.text.Text at 0x101d00d0>"
       ]
      }
     ],
     "prompt_number": 18
    },
    {
     "cell_type": "markdown",
     "metadata": {},
     "source": [
      "Raster plot"
     ]
    },
    {
     "cell_type": "code",
     "collapsed": false,
     "input": [
      "print 'Spikes of', N_mitral, ' mitral:', monit_mitral['spikes'].nspikes\n",
      "raster_plot(monit_mitral['spikes'], newfigure=True)"
     ],
     "language": "python",
     "metadata": {},
     "outputs": [
      {
       "output_type": "stream",
       "stream": "stdout",
       "text": [
        "Spikes of 100  mitral: 2258\n"
       ]
      }
     ],
     "prompt_number": 19
    },
    {
     "cell_type": "code",
     "collapsed": false,
     "input": [
      "show()"
     ],
     "language": "python",
     "metadata": {},
     "outputs": [],
     "prompt_number": 20
    },
    {
     "cell_type": "code",
     "collapsed": false,
     "input": [],
     "language": "python",
     "metadata": {},
     "outputs": [],
     "prompt_number": 20
    }
   ],
   "metadata": {}
  }
 ]
}