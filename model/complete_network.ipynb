{
 "metadata": {
  "name": "Complete Network"
 },
 "nbformat": 3,
 "nbformat_minor": 0,
 "worksheets": [
  {
   "cells": [
    {
     "cell_type": "code",
     "collapsed": false,
     "input": [
      "from network_input import NetworkInput\n",
      "from mitral_cells import MitralCells\n",
      "from synapse import Synapse\n",
      "from granule_cells import GranuleCells\n",
      "from brian import *\n",
      "import parameters as ps\n",
      "\n",
      "psmt = ps.Mitral()\n",
      "psgr = ps.Granule()"
     ],
     "language": "python",
     "metadata": {},
     "outputs": [
      {
       "output_type": "stream",
       "stream": "stderr",
       "text": [
        "/usr/lib/pymodules/python2.7/brian/utils/sparse_patch/__init__.py:36: UserWarning: Couldn't find matching sparse matrix patch for scipy version 0.10.1, but in most cases this shouldn't be a problem.\n",
        "  warnings.warn(\"Couldn't find matching sparse matrix patch for scipy version %s, but in most cases this shouldn't be a problem.\" % scipy.__version__)\n"
       ]
      }
     ],
     "prompt_number": 1
    },
    {
     "cell_type": "markdown",
     "metadata": {},
     "source": [
      "## Network Input"
     ]
    },
    {
     "cell_type": "markdown",
     "metadata": {},
     "source": [
      "Create and initialize it"
     ]
    },
    {
     "cell_type": "code",
     "collapsed": false,
     "input": [
      "netin = NetworkInput()\n",
      "netin.set_eqs_model()"
     ],
     "language": "python",
     "metadata": {},
     "outputs": [],
     "prompt_number": 2
    },
    {
     "cell_type": "markdown",
     "metadata": {},
     "source": [
      "## Synapses"
     ]
    },
    {
     "cell_type": "markdown",
     "metadata": {},
     "source": [
      "Excitatory synapse (mitral --> granule)"
     ]
    },
    {
     "cell_type": "code",
     "collapsed": false,
     "input": [
      "synexc = Synapse(synapse_type='exc')\n",
      "synexc.set_eqs_model()"
     ],
     "language": "python",
     "metadata": {},
     "outputs": [],
     "prompt_number": 3
    },
    {
     "cell_type": "markdown",
     "metadata": {},
     "source": [
      "Inhibitory synapse (granule --> mitral)"
     ]
    },
    {
     "cell_type": "code",
     "collapsed": false,
     "input": [
      "syninhib = Synapse(synapse_type='inhib')\n",
      "syninhib.set_eqs_model()"
     ],
     "language": "python",
     "metadata": {},
     "outputs": [],
     "prompt_number": 4
    },
    {
     "cell_type": "markdown",
     "metadata": {},
     "source": [
      "## Mitral Cells"
     ]
    },
    {
     "cell_type": "markdown",
     "metadata": {},
     "source": [
      "Create the mitral cells"
     ]
    },
    {
     "cell_type": "code",
     "collapsed": false,
     "input": [
      "N_mitral = 100\n",
      "mt = MitralCells()"
     ],
     "language": "python",
     "metadata": {},
     "outputs": [],
     "prompt_number": 5
    },
    {
     "cell_type": "markdown",
     "metadata": {},
     "source": [
      "Initialize it with the default equation model and input and synaptic currents"
     ]
    },
    {
     "cell_type": "code",
     "collapsed": false,
     "input": [
      "mt_supp_eqs = {'var': ['-I_input', '-I_syn'],\n",
      "               'eqs': [netin.get_eqs_model(), synexc.get_eqs_model()]}\n",
      "mt.add_eqs(supp_eqs=mt_supp_eqs)"
     ],
     "language": "python",
     "metadata": {},
     "outputs": [],
     "prompt_number": 6
    },
    {
     "cell_type": "markdown",
     "metadata": {},
     "source": [
      "Create the ``NeuronGroup`` of mitral cells and initialize their membrane potential"
     ]
    },
    {
     "cell_type": "code",
     "collapsed": false,
     "input": [
      "mt.make_pop(N_mitral)\n",
      "mt.pop.V = psmt.E_L"
     ],
     "language": "python",
     "metadata": {},
     "outputs": [],
     "prompt_number": 7
    },
    {
     "cell_type": "markdown",
     "metadata": {},
     "source": [
      "## Granule Cells"
     ]
    },
    {
     "cell_type": "markdown",
     "metadata": {},
     "source": [
      "Create the granule cells"
     ]
    },
    {
     "cell_type": "code",
     "collapsed": false,
     "input": [
      "N_granule = 1\n",
      "gr = GranuleCells()"
     ],
     "language": "python",
     "metadata": {},
     "outputs": [],
     "prompt_number": 8
    },
    {
     "cell_type": "markdown",
     "metadata": {},
     "source": [
      "Add the equation model with the synaptic current"
     ]
    },
    {
     "cell_type": "code",
     "collapsed": false,
     "input": [
      "gr_supp_eqs = {'var': ['-I_syn'],\n",
      "               'eqs': [syninhib.get_eqs_model()]}\n",
      "gr.add_eqs(supp_eqs=gr_supp_eqs)"
     ],
     "language": "python",
     "metadata": {},
     "outputs": [],
     "prompt_number": 9
    },
    {
     "cell_type": "markdown",
     "metadata": {},
     "source": [
      "Create the ``NeuronGroup`` of granule cells and initialize their membrane potential"
     ]
    },
    {
     "cell_type": "code",
     "collapsed": false,
     "input": [
      "gr.make_pop(N_granule)\n",
      "gr.pop.V_D = psgr.E_L\n",
      "gr.pop.V_S = psgr.E_L"
     ],
     "language": "python",
     "metadata": {},
     "outputs": [],
     "prompt_number": 10
    },
    {
     "cell_type": "markdown",
     "metadata": {},
     "source": [
      "## Connecting mitral and granule cells"
     ]
    },
    {
     "cell_type": "markdown",
     "metadata": {},
     "source": [
      "Setting the connections between mitral and granule cells"
     ]
    },
    {
     "cell_type": "code",
     "collapsed": false,
     "input": [
      "connections = ones((N_mitral,N_granule))\n",
      "@network_operation(when='start')\n",
      "def graded_synapse():\n",
      "    #connections\n",
      "    mt.pop.state('T')[:]=0.\n",
      "    mt.pop.state('T')[mt.pop.get_refractory_indices()]=1.\n",
      "    gr.pop.s_syn = dot(mt.pop.s, connections)\n",
      "    mt.pop.s_syn = dot(gr.pop.s, transpose(connections))\n",
      "\n",
      "@network_operation(when='after_groups')\n",
      "def keep_reset():\n",
      "    mt.pop.state('V')[mt.pop.get_refractory_indices()] = psmt.V_r"
     ],
     "language": "python",
     "metadata": {},
     "outputs": [],
     "prompt_number": 11
    },
    {
     "cell_type": "markdown",
     "metadata": {},
     "source": [
      "## Simulation"
     ]
    },
    {
     "cell_type": "markdown",
     "metadata": {},
     "source": [
      "Simulation parameters"
     ]
    },
    {
     "cell_type": "code",
     "collapsed": false,
     "input": [
      "defaultclock.dt = 0.05*msecond\n",
      "t_simu = 5000*msecond"
     ],
     "language": "python",
     "metadata": {},
     "outputs": [],
     "prompt_number": 12
    },
    {
     "cell_type": "markdown",
     "metadata": {},
     "source": [
      "Setting the monitors"
     ]
    },
    {
     "cell_type": "code",
     "collapsed": false,
     "input": [
      "monit_granules = {}\n",
      "monit_mitrales = {}\n",
      "for pname in ('V_D', 's_syn', 's'):\n",
      "    monit_granules[pname] = StateMonitor(gr.pop, pname, record=True)\n",
      "for pname in ('s', 'V'):\n",
      "    monit_mitrales[pname] = StateMonitor(mt.pop, pname, record=0)\n",
      "monit_mitrales['spikes'] = SpikeMonitor(mt.pop, record=True)"
     ],
     "language": "python",
     "metadata": {},
     "outputs": [],
     "prompt_number": 13
    },
    {
     "cell_type": "markdown",
     "metadata": {},
     "source": [
      "Creating and running the network"
     ]
    },
    {
     "cell_type": "code",
     "collapsed": false,
     "input": [
      "nn = Network(mt.pop, gr.pop, [mgr for mgr in monit_granules.values()], [mmt for mmt in monit_mitrales.values()],\n",
      "             graded_synapse, keep_reset)\n",
      "nn.run(t_simu, report='text')"
     ],
     "language": "python",
     "metadata": {},
     "outputs": [
      {
       "ename": "NameError",
       "evalue": "name 'nn' is not defined",
       "output_type": "pyerr",
       "traceback": [
        "\u001b[0;31m---------------------------------------------------------------------------\u001b[0m\n\u001b[0;31mNameError\u001b[0m                                 Traceback (most recent call last)",
        "\u001b[0;32m<ipython-input-14-e5dd3ff25ec2>\u001b[0m in \u001b[0;36m<module>\u001b[0;34m()\u001b[0m\n\u001b[0;32m----> 1\u001b[0;31m \u001b[0mnn\u001b[0m\u001b[0;34m.\u001b[0m\u001b[0mrun\u001b[0m\u001b[0;34m(\u001b[0m\u001b[0mt_simu\u001b[0m\u001b[0;34m,\u001b[0m \u001b[0mreport\u001b[0m\u001b[0;34m=\u001b[0m\u001b[0;34m'text'\u001b[0m\u001b[0;34m)\u001b[0m\u001b[0;34m\u001b[0m\u001b[0m\n\u001b[0m\u001b[1;32m      2\u001b[0m nn = Network(mt.pop, gr.pop, [mgr for mgr in monit_granules.values()], [mmt for mmt in monit_mitrales.values()],\n\u001b[1;32m      3\u001b[0m              graded_synapse, keep_reset)\n",
        "\u001b[0;31mNameError\u001b[0m: name 'nn' is not defined"
       ]
      }
     ],
     "prompt_number": 14
    },
    {
     "cell_type": "markdown",
     "metadata": {},
     "source": [
      "## R\u00e9sultats"
     ]
    },
    {
     "cell_type": "markdown",
     "metadata": {},
     "source": [
      "Granule membrane potential over time"
     ]
    },
    {
     "cell_type": "code",
     "collapsed": false,
     "input": [
      "figure()\n",
      "plot(monit_granules['V_D'].times/msecond, monit_granules['V_D'][0]/mvolt)\n",
      "xlabel('time (ms)')\n",
      "ylabel('membrane potential of granule : V_D (mvolt)')"
     ],
     "language": "python",
     "metadata": {},
     "outputs": []
    },
    {
     "cell_type": "markdown",
     "metadata": {},
     "source": [
      "One mitral membrane potential over time"
     ]
    },
    {
     "cell_type": "code",
     "collapsed": false,
     "input": [
      "figure()\n",
      "plot(monit_mitrales['V'].times / msecond, monit_mitrales['V'][0]/mvolt)\n",
      "xlabel('time (ms)')\n",
      "ylabel('membrane potential of mitral : V (mvolt)')"
     ],
     "language": "python",
     "metadata": {},
     "outputs": []
    },
    {
     "cell_type": "markdown",
     "metadata": {},
     "source": [
      "``s`` and ``s_syn`` from mitral and granule cells"
     ]
    },
    {
     "cell_type": "code",
     "collapsed": false,
     "input": [
      "figure()\n",
      "plot(monit_mitrales['s'].times / msecond, monit_mitrales['s'][0])\n",
      "plot(monit_granules['s_syn'].times / msecond, monit_granules['s_syn'][0])\n",
      "plot(monit_granules['s'].times / msecond, monit_granules['s'][0])\n",
      "xlabel('time (ms)')\n",
      "ylabel('s mitral & s_syn granule & s granule')"
     ],
     "language": "python",
     "metadata": {},
     "outputs": []
    },
    {
     "cell_type": "markdown",
     "metadata": {},
     "source": [
      "Raster plot"
     ]
    },
    {
     "cell_type": "code",
     "collapsed": false,
     "input": [
      "print 'Spikes of', N_mitral, ' mitral:', monit_mitrales['spikes'].nspikes\n",
      "raster_plot(monit_mitrales['spikes'], newfigure=True)"
     ],
     "language": "python",
     "metadata": {},
     "outputs": []
    },
    {
     "cell_type": "code",
     "collapsed": false,
     "input": [
      "show()"
     ],
     "language": "python",
     "metadata": {},
     "outputs": []
    }
   ],
   "metadata": {}
  }
 ]
}