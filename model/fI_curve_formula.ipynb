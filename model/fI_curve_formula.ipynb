{
 "metadata": {
  "name": "fI_curve_formula"
 },
 "nbformat": 3,
 "nbformat_minor": 0,
 "worksheets": [
  {
   "cells": [
    {
     "cell_type": "code",
     "collapsed": false,
     "input": [
      "from scipy import *\n",
      "from parameters import Mitral\n",
      "psmt = Mitral()"
     ],
     "language": "python",
     "metadata": {},
     "outputs": [],
     "prompt_number": 9
    },
    {
     "cell_type": "code",
     "collapsed": false,
     "input": [
      "tau_m = linspace(psmt.C_m / psmt.g_L, psmt.C_m / psmt.g_L * 10, 10)\n",
      "R_m   = 1./psmt.g_L\n",
      "E_L   = psmt.E_L\n",
      "V_r   = psmt.V_r\n",
      "V_t   = psmt.V_t"
     ],
     "language": "python",
     "metadata": {},
     "outputs": [],
     "prompt_number": 10
    },
    {
     "cell_type": "code",
     "collapsed": false,
     "input": [
      "currents = array(linspace(1e-5, 0.02, 10000))"
     ],
     "language": "python",
     "metadata": {},
     "outputs": [],
     "prompt_number": 11
    },
    {
     "cell_type": "code",
     "collapsed": false,
     "input": [
      "def f_isi(I_e, tau_m):\n",
      "    return 1./(tau_m*log((R_m*I_e + E_L - V_r)/(R_m*I_e + E_L - V_t)))"
     ],
     "language": "python",
     "metadata": {},
     "outputs": [],
     "prompt_number": 12
    },
    {
     "cell_type": "code",
     "collapsed": false,
     "input": [
      "for i in xrange(10):\n",
      "    plot(currents, f_isi(currents, tau_m[i]))\n",
      "show()"
     ],
     "language": "python",
     "metadata": {},
     "outputs": [],
     "prompt_number": 13
    },
    {
     "cell_type": "code",
     "collapsed": false,
     "input": [],
     "language": "python",
     "metadata": {},
     "outputs": [],
     "prompt_number": 5
    }
   ],
   "metadata": {}
  }
 ]
}