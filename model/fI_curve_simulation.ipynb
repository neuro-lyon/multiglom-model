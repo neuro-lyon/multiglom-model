{
 "metadata": {
  "name": "fI_curve_simulation"
 },
 "nbformat": 3,
 "nbformat_minor": 0,
 "worksheets": [
  {
   "cells": [
    {
     "cell_type": "code",
     "collapsed": false,
     "input": [
      "from mitral_cells import MitralCells\n",
      "from brian import *\n",
      "from parameters import Mitral\n",
      "\n",
      "psmt = Mitral()"
     ],
     "language": "python",
     "metadata": {},
     "outputs": [
      {
       "output_type": "stream",
       "stream": "stderr",
       "text": [
        "/usr/lib/pymodules/python2.7/brian/utils/sparse_patch/__init__.py:36: UserWarning: Couldn't find matching sparse matrix patch for scipy version 0.10.1, but in most cases this shouldn't be a problem.\n",
        "  warnings.warn(\"Couldn't find matching sparse matrix patch for scipy version %s, but in most cases this shouldn't be a problem.\" % scipy.__version__)\n"
       ]
      }
     ],
     "prompt_number": 1
    },
    {
     "cell_type": "code",
     "collapsed": false,
     "input": [
      "N_mitral = 100\n",
      "istart = 0.001*amp*meter**-2\n",
      "istop = 0.04*amp*meter**-2\n",
      "period = 5.*second"
     ],
     "language": "python",
     "metadata": {},
     "outputs": [],
     "prompt_number": 2
    },
    {
     "cell_type": "code",
     "collapsed": false,
     "input": [
      "mt = MitralCells()"
     ],
     "language": "python",
     "metadata": {},
     "outputs": [],
     "prompt_number": 3
    },
    {
     "cell_type": "code",
     "collapsed": false,
     "input": [
      "mt.add_eqs({'var': ['+I_electrode'], 'eqs' : ['I_electrode : amp*meter**-2']})"
     ],
     "language": "python",
     "metadata": {},
     "outputs": [
      {
       "output_type": "stream",
       "stream": "stdout",
       "text": [
        "dI_electrode/dt = 0*amp*meter**-2/second [diffeq]\n",
        "dV/dt = (-g_L*(V - E_L) +I_electrode)/C_m [diffeq]\n",
        "\n"
       ]
      }
     ],
     "prompt_number": 4
    },
    {
     "cell_type": "code",
     "collapsed": false,
     "input": [
      "mt.make_pop(N_mitral)\n",
      "currents = linspace(istart, istop, N_mitral)\n",
      "mt.pop.I_electrode = currents\n",
      "# mt.pop.V = psmt.E_L"
     ],
     "language": "python",
     "metadata": {},
     "outputs": [
      {
       "output_type": "stream",
       "stream": "stdout",
       "text": [
        "[ 0.001       0.00139394  0.00178788  0.00218182  0.00257576  0.0029697\n",
        "  0.00336364  0.00375758  0.00415152  0.00454545  0.00493939  0.00533333\n",
        "  0.00572727  0.00612121  0.00651515  0.00690909  0.00730303  0.00769697\n",
        "  0.00809091  0.00848485  0.00887879  0.00927273  0.00966667  0.01006061\n",
        "  0.01045455  0.01084848  0.01124242  0.01163636  0.0120303   0.01242424\n",
        "  0.01281818  0.01321212  0.01360606  0.014       0.01439394  0.01478788\n",
        "  0.01518182  0.01557576  0.0159697   0.01636364  0.01675758  0.01715152\n",
        "  0.01754545  0.01793939  0.01833333  0.01872727  0.01912121  0.01951515\n",
        "  0.01990909  0.02030303  0.02069697  0.02109091  0.02148485  0.02187879\n",
        "  0.02227273  0.02266667  0.02306061  0.02345455  0.02384848  0.02424242\n",
        "  0.02463636  0.0250303   0.02542424  0.02581818  0.02621212  0.02660606\n",
        "  0.027       0.02739394  0.02778788  0.02818182  0.02857576  0.0289697\n",
        "  0.02936364  0.02975758  0.03015152  0.03054545  0.03093939  0.03133333\n",
        "  0.03172727  0.03212121  0.03251515  0.03290909  0.03330303  0.03369697\n",
        "  0.03409091  0.03448485  0.03487879  0.03527273  0.03566667  0.03606061\n",
        "  0.03645455  0.03684848  0.03724242  0.03763636  0.0380303   0.03842424\n",
        "  0.03881818  0.03921212  0.03960606  0.04      ]\n"
       ]
      }
     ],
     "prompt_number": 5
    },
    {
     "cell_type": "code",
     "collapsed": false,
     "input": [
      "# monitV = StateMonitor(mt.pop, 'V', record = [0, int(N_mitral/2), N_mitral])\n",
      "monit_spikes = SpikeMonitor(mt.pop, record=True)"
     ],
     "language": "python",
     "metadata": {},
     "outputs": [],
     "prompt_number": 6
    },
    {
     "cell_type": "code",
     "collapsed": false,
     "input": [
      "netw = Network(mt.pop,  monit_spikes)\n",
      "netw.run(period, report='text')"
     ],
     "language": "python",
     "metadata": {},
     "outputs": [
      {
       "output_type": "stream",
       "stream": "stdout",
       "text": [
        "100% complete, 5s elapsed, approximately 0s remaining.\n"
       ]
      }
     ],
     "prompt_number": 7
    },
    {
     "cell_type": "code",
     "collapsed": false,
     "input": [
      "print monit_spikes.nspikes\n",
      "# figure()\n",
      "# plot(monitV.times/msecond, monitV[0]/mvolt)\n",
      "figure()\n",
      "raster_plot(monit_spikes)\n",
      "show()"
     ],
     "language": "python",
     "metadata": {},
     "outputs": [
      {
       "output_type": "stream",
       "stream": "stdout",
       "text": [
        "25207\n"
       ]
      }
     ],
     "prompt_number": 9
    },
    {
     "cell_type": "code",
     "collapsed": false,
     "input": [
      "freqs = []\n",
      "stimes = monit_spikes.spiketimes\n",
      "for neuron in stimes:\n",
      "    freqs += [len(stimes[neuron])/period]\n",
      "plot(array(currents)/(amp*meter**-2), array(freqs)/second**-1)\n",
      "xlabel('current I (amp*meter**-2)')\n",
      "ylabel('frequency f (Hz)')\n",
      "show()"
     ],
     "language": "python",
     "metadata": {},
     "outputs": [],
     "prompt_number": 8
    }
   ],
   "metadata": {}
  }
 ]
}