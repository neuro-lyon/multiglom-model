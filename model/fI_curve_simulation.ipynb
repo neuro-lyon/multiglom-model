{
 "metadata": {
  "name": "fI_curve_simulation"
 },
 "nbformat": 3,
 "nbformat_minor": 0,
 "worksheets": [
  {
   "cells": [
    {
     "cell_type": "code",
     "collapsed": false,
     "input": [
      "from mitral_cells import MitralCells\n",
      "from brian import *\n",
      "from parameters import Mitral\n",
      "\n",
      "psmt = Mitral()"
     ],
     "language": "python",
     "metadata": {},
     "outputs": [],
     "prompt_number": 12
    },
    {
     "cell_type": "markdown",
     "metadata": {},
     "source": [
      "## Parameters"
     ]
    },
    {
     "cell_type": "code",
     "collapsed": false,
     "input": [
      "N_mitral = 100\n",
      "istart = 0.001*amp*meter**-2\n",
      "istop = 0.04*amp*meter**-2\n",
      "period = 5.*second"
     ],
     "language": "python",
     "metadata": {},
     "outputs": [],
     "prompt_number": 13
    },
    {
     "cell_type": "markdown",
     "metadata": {},
     "source": [
      "## Mitral cell population"
     ]
    },
    {
     "cell_type": "code",
     "collapsed": false,
     "input": [
      "mt = MitralCells()"
     ],
     "language": "python",
     "metadata": {},
     "outputs": [],
     "prompt_number": 14
    },
    {
     "cell_type": "code",
     "collapsed": false,
     "input": [
      "mt.add_eqs({'var': ['+I_electrode'], 'eqs' : ['I_electrode : amp*meter**-2']})"
     ],
     "language": "python",
     "metadata": {},
     "outputs": [],
     "prompt_number": 15
    },
    {
     "cell_type": "code",
     "collapsed": false,
     "input": [
      "mt.make_pop(N_mitral)\n",
      "currents = linspace(istart, istop, N_mitral)\n",
      "mt.pop.I_electrode = currents\n",
      "mt.pop.V = psmt.E_L"
     ],
     "language": "python",
     "metadata": {},
     "outputs": [],
     "prompt_number": 16
    },
    {
     "cell_type": "code",
     "collapsed": false,
     "input": [
      "monitV = StateMonitor(mt.pop, 'V', record = 50)\n",
      "monit_spikes = SpikeMonitor(mt.pop, record=True)"
     ],
     "language": "python",
     "metadata": {},
     "outputs": [],
     "prompt_number": 17
    },
    {
     "cell_type": "markdown",
     "metadata": {},
     "source": [
      "## Network simulation"
     ]
    },
    {
     "cell_type": "code",
     "collapsed": false,
     "input": [
      "netw = Network(mt.pop,  monit_spikes, monitV)\n",
      "netw.run(period, report='text')"
     ],
     "language": "python",
     "metadata": {},
     "outputs": [
      {
       "output_type": "stream",
       "stream": "stdout",
       "text": [
        "100% complete, 6s elapsed, approximately 0s remaining.\n"
       ]
      }
     ],
     "prompt_number": 18
    },
    {
     "cell_type": "markdown",
     "metadata": {},
     "source": [
      "## Results"
     ]
    },
    {
     "cell_type": "markdown",
     "metadata": {},
     "source": [
      "Spikes"
     ]
    },
    {
     "cell_type": "code",
     "collapsed": false,
     "input": [
      "print monit_spikes.nspikes, 'spikes'\n",
      "figure()\n",
      "raster_plot(monit_spikes)"
     ],
     "language": "python",
     "metadata": {},
     "outputs": [
      {
       "output_type": "stream",
       "stream": "stdout",
       "text": [
        "25114 spikes\n"
       ]
      }
     ],
     "prompt_number": 19
    },
    {
     "cell_type": "markdown",
     "metadata": {},
     "source": [
      "Membrane potential"
     ]
    },
    {
     "cell_type": "code",
     "collapsed": false,
     "input": [
      "figure()\n",
      "plot(monitV.times/msecond, monitV[50]/mvolt)\n",
      "xlabel('time (ms)')\n",
      "ylabel('mitral membrane potential (mvolt)')"
     ],
     "language": "python",
     "metadata": {},
     "outputs": [
      {
       "output_type": "pyout",
       "prompt_number": 20,
       "text": [
        "<matplotlib.text.Text at 0x688e490>"
       ]
      }
     ],
     "prompt_number": 20
    },
    {
     "cell_type": "markdown",
     "metadata": {},
     "source": [
      "fI curve"
     ]
    },
    {
     "cell_type": "code",
     "collapsed": false,
     "input": [
      "freqs = []\n",
      "stimes = monit_spikes.spiketimes\n",
      "for neuron in stimes:\n",
      "    freqs += [len(stimes[neuron])/period]\n",
      "figure()\n",
      "plot(array(currents)/(amp*meter**-2), array(freqs)/second**-1)\n",
      "xlabel('current I (amp*meter**-2)')\n",
      "ylabel('frequency f (Hz)')\n",
      "show()"
     ],
     "language": "python",
     "metadata": {},
     "outputs": [],
     "prompt_number": 21
    }
   ],
   "metadata": {}
  }
 ]
}