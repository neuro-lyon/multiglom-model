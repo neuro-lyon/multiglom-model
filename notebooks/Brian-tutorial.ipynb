{
 "metadata": {
  "name": "Brian-tutorial"
 },
 "nbformat": 3,
 "nbformat_minor": 0,
 "worksheets": [
  {
   "cells": [
    {
     "cell_type": "markdown",
     "metadata": {},
     "source": [
      "# [BRIAN Tutorial](http://briansimulator.org/docs/tutorials.html)"
     ]
    },
    {
     "cell_type": "code",
     "collapsed": false,
     "input": [
      "from brian import *"
     ],
     "language": "python",
     "metadata": {},
     "outputs": [
      {
       "output_type": "stream",
       "stream": "stderr",
       "text": [
        "/usr/lib/pymodules/python2.7/brian/utils/sparse_patch/__init__.py:36: UserWarning: Couldn't find matching sparse matrix patch for scipy version 0.10.1, but in most cases this shouldn't be a problem.\n",
        "  warnings.warn(\"Couldn't find matching sparse matrix patch for scipy version %s, but in most cases this shouldn't be a problem.\" % scipy.__version__)\n"
       ]
      }
     ],
     "prompt_number": 1
    },
    {
     "cell_type": "markdown",
     "metadata": {},
     "source": [
      "leaky integrate and fire neuron, defined by the differential equation:\n",
      "\n",
      "    tau dV/dt = -(V-El)\n",
      "\n",
      "with a threshold value *Vt* and reset value *Vr.*"
     ]
    },
    {
     "cell_type": "code",
     "collapsed": false,
     "input": [
      "model_lif = 'dV/dt = -(V-El)/tau : volt'"
     ],
     "language": "python",
     "metadata": {},
     "outputs": [],
     "prompt_number": 2
    },
    {
     "cell_type": "code",
     "collapsed": false,
     "input": [
      "tau = 20 * msecond        # membrane time constant\n",
      "Vt = -50 * mvolt          # spike threshold\n",
      "Vr = -60 * mvolt          # reset value\n",
      "El = Vr         # resting potential (same as the reset)"
     ],
     "language": "python",
     "metadata": {},
     "outputs": [],
     "prompt_number": 3
    },
    {
     "cell_type": "code",
     "collapsed": false,
     "input": [
      "G = NeuronGroup(N=40, model=model_lif, threshold=Vt, reset=Vr)"
     ],
     "language": "python",
     "metadata": {},
     "outputs": [],
     "prompt_number": 4
    },
    {
     "cell_type": "markdown",
     "metadata": {},
     "source": [
      "## Monitoring activity"
     ]
    },
    {
     "cell_type": "code",
     "collapsed": false,
     "input": [
      "M_spikes = SpikeMonitor(G)\n",
      "M_membrane = StateMonitor(G, 'V', record=[1,5])"
     ],
     "language": "python",
     "metadata": {},
     "outputs": [],
     "prompt_number": 5
    },
    {
     "cell_type": "markdown",
     "metadata": {},
     "source": [
      "## Running the simulation"
     ]
    },
    {
     "cell_type": "code",
     "collapsed": false,
     "input": [
      "run(1 * second)"
     ],
     "language": "python",
     "metadata": {},
     "outputs": [],
     "prompt_number": 6
    },
    {
     "cell_type": "markdown",
     "metadata": {},
     "source": [
      "## Results"
     ]
    },
    {
     "cell_type": "code",
     "collapsed": false,
     "input": [
      "print M_spikes.nspikes"
     ],
     "language": "python",
     "metadata": {},
     "outputs": [
      {
       "output_type": "stream",
       "stream": "stdout",
       "text": [
        "40\n"
       ]
      }
     ],
     "prompt_number": 8
    },
    {
     "cell_type": "code",
     "collapsed": false,
     "input": [],
     "language": "python",
     "metadata": {},
     "outputs": []
    }
   ],
   "metadata": {}
  }
 ]
}