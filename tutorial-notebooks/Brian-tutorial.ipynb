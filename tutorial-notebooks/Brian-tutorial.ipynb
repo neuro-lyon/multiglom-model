{
 "metadata": {
  "name": "Brian-tutorial"
 },
 "nbformat": 3,
 "nbformat_minor": 0,
 "worksheets": [
  {
   "cells": [
    {
     "cell_type": "markdown",
     "metadata": {},
     "source": [
      "# [BRIAN Tutorial](http://briansimulator.org/docs/tutorials.html)"
     ]
    },
    {
     "cell_type": "code",
     "collapsed": false,
     "input": [
      "from brian import *"
     ],
     "language": "python",
     "metadata": {},
     "outputs": [
      {
       "output_type": "stream",
       "stream": "stderr",
       "text": [
        "/usr/lib/pymodules/python2.7/brian/utils/sparse_patch/__init__.py:36: UserWarning: Couldn't find matching sparse matrix patch for scipy version 0.10.1, but in most cases this shouldn't be a problem.\n",
        "  warnings.warn(\"Couldn't find matching sparse matrix patch for scipy version %s, but in most cases this shouldn't be a problem.\" % scipy.__version__)\n"
       ]
      }
     ],
     "prompt_number": 1
    },
    {
     "cell_type": "markdown",
     "metadata": {},
     "source": [
      "Leaky Integrate and Fire neuron, defined by the differential equation:\n",
      "\n",
      "    tau dV/dt = -(V-El)\n",
      "\n",
      "with a threshold value *Vt* and reset value *Vr.*"
     ]
    },
    {
     "cell_type": "code",
     "collapsed": false,
     "input": [
      "model_lif = 'dV/dt = -(V-El)/tau : volt'"
     ],
     "language": "python",
     "metadata": {},
     "outputs": [],
     "prompt_number": 2
    },
    {
     "cell_type": "markdown",
     "metadata": {},
     "source": [
      "Setting the parameters"
     ]
    },
    {
     "cell_type": "code",
     "collapsed": false,
     "input": [
      "tau = 20 * msecond        # membrane time constant\n",
      "Vt = -50 * mvolt          # spike threshold\n",
      "Vr = -60 * mvolt          # reset value\n",
      "El = -45 * mvolt          # resting potential (same as the reset)\n",
      "psp = 0.5 * mvolt         # postsynaptic potential size\n",
      "N_neurons = 40"
     ],
     "language": "python",
     "metadata": {},
     "outputs": [],
     "prompt_number": 3
    },
    {
     "cell_type": "markdown",
     "metadata": {},
     "source": [
      "Creating the group of neurons"
     ]
    },
    {
     "cell_type": "code",
     "collapsed": false,
     "input": [
      "G = NeuronGroup(N=N_neurons, model=model_lif, threshold=Vt, reset=Vr)"
     ],
     "language": "python",
     "metadata": {},
     "outputs": [],
     "prompt_number": 4
    },
    {
     "cell_type": "markdown",
     "metadata": {},
     "source": [
      "Introducing some noise in the neuron resting potentials"
     ]
    },
    {
     "cell_type": "code",
     "collapsed": false,
     "input": [
      "G.V = Vr + rand(N_neurons)*(Vt - Vr)"
     ],
     "language": "python",
     "metadata": {},
     "outputs": [],
     "prompt_number": 5
    },
    {
     "cell_type": "markdown",
     "metadata": {},
     "source": [
      "Making connections"
     ]
    },
    {
     "cell_type": "code",
     "collapsed": false,
     "input": [
      "C = Connection(G, G)\n",
      "C.connect_random(sparseness=0.1, weight=psp)"
     ],
     "language": "python",
     "metadata": {},
     "outputs": [],
     "prompt_number": 6
    },
    {
     "cell_type": "markdown",
     "metadata": {},
     "source": [
      "## Monitoring activity"
     ]
    },
    {
     "cell_type": "code",
     "collapsed": false,
     "input": [
      "M_spikes = SpikeMonitor(G)\n",
      "M_membrane = StateMonitor(G, 'V', record=True)"
     ],
     "language": "python",
     "metadata": {},
     "outputs": [],
     "prompt_number": 7
    },
    {
     "cell_type": "markdown",
     "metadata": {},
     "source": [
      "## Running the simulation"
     ]
    },
    {
     "cell_type": "code",
     "collapsed": false,
     "input": [
      "run(200 * msecond)"
     ],
     "language": "python",
     "metadata": {},
     "outputs": [],
     "prompt_number": 8
    },
    {
     "cell_type": "markdown",
     "metadata": {},
     "source": [
      "## Results"
     ]
    },
    {
     "cell_type": "markdown",
     "metadata": {},
     "source": [
      "Number of spikes"
     ]
    },
    {
     "cell_type": "code",
     "collapsed": false,
     "input": [
      "print M_spikes.nspikes"
     ],
     "language": "python",
     "metadata": {},
     "outputs": [
      {
       "output_type": "stream",
       "stream": "stdout",
       "text": [
        "442\n"
       ]
      }
     ],
     "prompt_number": 9
    },
    {
     "cell_type": "markdown",
     "metadata": {},
     "source": [
      "Raster plot"
     ]
    },
    {
     "cell_type": "code",
     "collapsed": false,
     "input": [
      "raster_plot()\n",
      "show()"
     ],
     "language": "python",
     "metadata": {},
     "outputs": [],
     "prompt_number": 10
    },
    {
     "cell_type": "markdown",
     "metadata": {},
     "source": [
      "Membrane potentials of 2 neurons"
     ]
    },
    {
     "cell_type": "code",
     "collapsed": false,
     "input": [
      "plot(M_membrane.times / ms, M_membrane[1] / mV)\n",
      "plot(M_membrane.times / ms, M_membrane[5] / mV)\n",
      "xlabel('Time (in ms)')\n",
      "ylabel('Membrane potential (in mV)')\n",
      "title('Membrane potential for neurons 1 and 5')\n",
      "show()"
     ],
     "language": "python",
     "metadata": {},
     "outputs": [],
     "prompt_number": 11
    }
   ],
   "metadata": {}
  }
 ]
}