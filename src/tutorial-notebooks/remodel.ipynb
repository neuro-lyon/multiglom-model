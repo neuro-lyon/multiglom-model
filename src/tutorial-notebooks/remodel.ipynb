{
 "metadata": {
  "name": "remodel"
 },
 "nbformat": 3,
 "nbformat_minor": 0,
 "worksheets": [
  {
   "cells": [
    {
     "cell_type": "markdown",
     "metadata": {},
     "source": [
      "# Modification mod\u00e8le Fourcaud 2011"
     ]
    },
    {
     "cell_type": "code",
     "collapsed": false,
     "input": [
      "from brian import *"
     ],
     "language": "python",
     "metadata": {},
     "outputs": [
      {
       "output_type": "stream",
       "stream": "stderr",
       "text": [
        "/usr/lib/pymodules/python2.7/brian/utils/sparse_patch/__init__.py:36: UserWarning: Couldn't find matching sparse matrix patch for scipy version 0.10.1, but in most cases this shouldn't be a problem.\n",
        "  warnings.warn(\"Couldn't find matching sparse matrix patch for scipy version %s, but in most cases this shouldn't be a problem.\" % scipy.__version__)\n"
       ]
      }
     ],
     "prompt_number": 1
    },
    {
     "cell_type": "markdown",
     "metadata": {},
     "source": [
      "## Input"
     ]
    },
    {
     "cell_type": "markdown",
     "metadata": {},
     "source": [
      "Param\u00e8tres"
     ]
    },
    {
     "cell_type": "code",
     "collapsed": false,
     "input": [
      "tau_Ein   = 3*msecond\n",
      "g_Ein0    = 0.5*siemens*meter**-2\n",
      "sigma_Ein = 2*siemens*meter**-2*second**(-1./2)"
     ],
     "language": "python",
     "metadata": {},
     "outputs": [],
     "prompt_number": 2
    },
    {
     "cell_type": "markdown",
     "metadata": {},
     "source": [
      "Equation input"
     ]
    },
    {
     "cell_type": "code",
     "collapsed": false,
     "input": [
      "eq_g_input = Equations('dg_Ein/dt = (g_Ein0 - g_Ein)/tau_Ein + sigma_Ein * xi : siemens*meter**-2')\n",
      "eq_input   = Equations('I_input = g_Ein*(V - 0*mvolt) : amp*meter**-2') + eq_g_input"
     ],
     "language": "python",
     "metadata": {},
     "outputs": [],
     "prompt_number": 3
    },
    {
     "cell_type": "code",
     "collapsed": false,
     "input": [
      "eq_input"
     ],
     "language": "python",
     "metadata": {},
     "outputs": [
      {
       "output_type": "pyout",
       "prompt_number": 24,
       "text": [
        "dg_Ein/dt = (g_Ein0 - g_Ein)/tau_Ein + sigma_Ein * xi [diffeq]\n",
        "I_input = g_Ein*(V - 0*mvolt) [eq]\n"
       ]
      }
     ],
     "prompt_number": 24
    },
    {
     "cell_type": "markdown",
     "metadata": {},
     "source": [
      "## Synapse"
     ]
    },
    {
     "cell_type": "markdown",
     "metadata": {},
     "source": [
      "Param\u00e8tres"
     ]
    },
    {
     "cell_type": "code",
     "collapsed": false,
     "input": [
      "V_E      = 0*mvolt\n",
      "V_act_E  = 0*mvolt\n",
      "g_E_low  = 0.7*siemens*meter**-2\n",
      "g_E_high = 3.5*siemens*meter**-2\n",
      "sigma_E  = 0.01*mvolt\n",
      "alpha_E  = 1*msecond**-1\n",
      "beta_E   = 1./3*msecond**-1\n",
      "\n",
      "V_I      = -70*mvolt\n",
      "V_act_I  = -66.4*mvolt\n",
      "g_I      = 10*siemens*meter**-2\n",
      "sigma_I  = 0.4*mvolt\n",
      "alpha_I  = 5*msecond**-1\n",
      "beta_I   = 1./10*msecond**-1"
     ],
     "language": "python",
     "metadata": {},
     "outputs": [],
     "prompt_number": 4
    },
    {
     "cell_type": "markdown",
     "metadata": {},
     "source": [
      "Fonction d\u00e9crivant le courant synaptique granule <--> mitrales"
     ]
    },
    {
     "cell_type": "code",
     "collapsed": false,
     "input": [
      "def synapse_eq(g_syn, V_post, V_syn, alpha, beta, V_pre, V_act, sigma):\n",
      "    \"\"\"Return the synapse equation model\"\"\"\n",
      "    eq_i = 'I_syn = '+g_syn+'*s_syn*('+V_post+' - '+V_syn+') : amp*meter**-2'\n",
      "    eq_s = 'ds/dt = '+alpha+'*(1 - s)*T - '+beta+'*s : 1'\n",
      "    eq_T = 'T = 1/(1 + exp(-1*('+V_pre+' - '+V_act+')/'+sigma+')) : 1'\n",
      "    eq_s_syn = 's_syn : 1'\n",
      "    eq_syn = Equations(eq_i) + Equations(eq_s) + Equations(eq_T) + Equations(eq_s_syn)\n",
      "    return eq_syn\n",
      "\n",
      "def synapseLIF_eq(g_syn, V_post, V_syn, alpha, beta, V_pre, V_act, sigma):\n",
      "    \"\"\"Return the synapse equation model\"\"\"\n",
      "    eq_i = 'I_syn = '+g_syn+'*s_syn*('+V_post+' - '+V_syn+') : amp*meter**-2'\n",
      "    eq_s = 'ds/dt = '+alpha+'*(1 - s)*T - '+beta+'*s : 1'\n",
      "    eq_T = 'T : 1'\n",
      "    eq_s_syn = 's_syn : 1'\n",
      "    eq_syn = Equations(eq_i) + Equations(eq_s) + Equations(eq_T) + Equations(eq_s_syn)\n",
      "    return eq_syn"
     ],
     "language": "python",
     "metadata": {},
     "outputs": [],
     "prompt_number": 5
    },
    {
     "cell_type": "markdown",
     "metadata": {},
     "source": [
      "## Mitrales"
     ]
    },
    {
     "cell_type": "markdown",
     "metadata": {},
     "source": [
      "Param\u00e8tres (`g_L` et `E_L` trouv\u00e9s via le mod\u00e8le Fourcaud et al. 2011)"
     ]
    },
    {
     "cell_type": "code",
     "collapsed": false,
     "input": [
      "N_mitral  = 100\n",
      "\n",
      "Cm        = 0.01*farad*meter**-2\n",
      "g_L       = 0.87*siemens*meter**-2\n",
      "E_L       = -64.5*mvolt\n",
      "V_r       = E_L # TODO\n",
      "V_t       = -45*mvolt # TODO\n",
      "t_refract = 1*msecond"
     ],
     "language": "python",
     "metadata": {},
     "outputs": [],
     "prompt_number": 6
    },
    {
     "cell_type": "markdown",
     "metadata": {},
     "source": [
      "Mod\u00e8le de mitrale (LIF)"
     ]
    },
    {
     "cell_type": "code",
     "collapsed": false,
     "input": [
      "# eq_mitral      = \"\"\"dV/dt = (-g_L*(V - E_L) - I_syn + I_electrode)/Cm : mvolt\n",
      "#                     I_electrode : amp*meter**-2\"\"\" # pour courbe fI\n",
      "eq_mitral      = 'dV/dt = (-g_L*(V - E_L) - I_syn - I_input)/Cm : mvolt'\n",
      "eq_exc_current = synapseLIF_eq('g_I', 'V', 'V_I', 'alpha_E', 'beta_E', 'V', 'V_act_E', 'sigma_E')"
     ],
     "language": "python",
     "metadata": {},
     "outputs": [],
     "prompt_number": 7
    },
    {
     "cell_type": "code",
     "collapsed": false,
     "input": [
      "eqs_model_mitrales = eq_mitral + eq_exc_current + eq_input\n",
      "eqs_model_mitrales"
     ],
     "language": "python",
     "metadata": {},
     "outputs": [],
     "prompt_number": 8
    },
    {
     "cell_type": "markdown",
     "metadata": {},
     "source": [
      "Cr\u00e9ation du r\u00e9seau de mitrales"
     ]
    },
    {
     "cell_type": "code",
     "collapsed": false,
     "input": [
      "pop_mitrales = NeuronGroup(N=N_mitral, model=eqs_model_mitrales, threshold=V_t, reset=V_r, refractory=t_refract)\n",
      "pop_mitrales.V = E_L"
     ],
     "language": "python",
     "metadata": {},
     "outputs": [],
     "prompt_number": 9
    },
    {
     "cell_type": "markdown",
     "metadata": {},
     "source": [
      "*Initialisation pour courbe fI*"
     ]
    },
    {
     "cell_type": "code",
     "collapsed": false,
     "input": [
      "# pop_mitrales.I_Electrode = linspace(0.001*amp*meter**-2, 40*0.001*amp*meter**-2, N_mitral)"
     ],
     "language": "python",
     "metadata": {},
     "outputs": [],
     "prompt_number": 10
    },
    {
     "cell_type": "markdown",
     "metadata": {},
     "source": [
      "## Granule"
     ]
    },
    {
     "cell_type": "markdown",
     "metadata": {},
     "source": [
      "Param\u00e8tres"
     ]
    },
    {
     "cell_type": "code",
     "collapsed": false,
     "input": [
      "N_granule = 1\n",
      "\n",
      "C_m  = 0.01*farad*meter**-2\n",
      "g_l  = 0.83*siemens*meter**-2\n",
      "E_l  = -70*mvolt\n",
      "g_SD = 1*siemens*meter**-2\n",
      "g_DS = 300*siemens*meter**-2"
     ],
     "language": "python",
     "metadata": {},
     "outputs": [],
     "prompt_number": 11
    },
    {
     "cell_type": "markdown",
     "metadata": {},
     "source": [
      "Equations du mod\u00e8le de granule"
     ]
    },
    {
     "cell_type": "code",
     "collapsed": false,
     "input": [
      "eq_soma          = Equations('dV_S/dt = (-g_l*(V_S - E_l) + g_SD*(V_D - V_S))/C_m : mvolt')\n",
      "eq_dendrites     = Equations('dV_D/dt = (-g_l*(V_D - E_l) + g_DS*(V_S - V_D) - I_syn)/C_m : mvolt')\n",
      "eq_inhib_current = synapse_eq('g_E_high', 'V_D', 'V_E', 'alpha_I', 'beta_I', 'V_D', 'V_act_I', 'sigma_I')"
     ],
     "language": "python",
     "metadata": {},
     "outputs": [],
     "prompt_number": 12
    },
    {
     "cell_type": "code",
     "collapsed": false,
     "input": [
      "eqs_model_granule = eq_soma + eq_dendrites + eq_inhib_current\n",
      "eqs_model_granule"
     ],
     "language": "python",
     "metadata": {},
     "outputs": [],
     "prompt_number": 13
    },
    {
     "cell_type": "markdown",
     "metadata": {},
     "source": [
      "Cr\u00e9ation du r\u00e9seau de neurone"
     ]
    },
    {
     "cell_type": "code",
     "collapsed": false,
     "input": [
      "pop_granules = NeuronGroup(N_granule, model=eqs_model_granule, implicit=False)\n",
      "pop_granules.V_D = E_l\n",
      "pop_granules.V_S = E_l"
     ],
     "language": "python",
     "metadata": {},
     "outputs": [],
     "prompt_number": 14
    },
    {
     "cell_type": "markdown",
     "metadata": {},
     "source": [
      "## Connexions granules--mitrales"
     ]
    },
    {
     "cell_type": "code",
     "collapsed": false,
     "input": [
      "connections = np.ones((N_mitral,N_granule))\n",
      "@network_operation(when='start')\n",
      "def graded_synapse():\n",
      "    #connections\n",
      "    pop_mitrales.state('T')[:]=0.\n",
      "    pop_mitrales.state('T')[pop_mitrales.get_refractory_indices()]=1.\n",
      "    pop_granules.s_syn = dot(pop_mitrales.s, connections)\n",
      "    pop_mitrales.s_syn = dot(pop_granules.s, np.transpose(connections))\n",
      "\n",
      "@network_operation(when='after_groups')\n",
      "def keep_reset():\n",
      "    pop_mitrales.state('V')[pop_mitrales.get_refractory_indices()]=V_r\n"
     ],
     "language": "python",
     "metadata": {},
     "outputs": [],
     "prompt_number": 15
    },
    {
     "cell_type": "markdown",
     "metadata": {},
     "source": [
      "## Simulation"
     ]
    },
    {
     "cell_type": "markdown",
     "metadata": {},
     "source": [
      "Param\u00e8tres"
     ]
    },
    {
     "cell_type": "code",
     "collapsed": false,
     "input": [
      "defaultclock.dt = 0.05*msecond\n",
      "t_simu = 5000*msecond"
     ],
     "language": "python",
     "metadata": {},
     "outputs": [],
     "prompt_number": 16
    },
    {
     "cell_type": "markdown",
     "metadata": {},
     "source": [
      "Monitoring"
     ]
    },
    {
     "cell_type": "code",
     "collapsed": false,
     "input": [
      "monit_granules = {}\n",
      "monit_mitrales = {}\n",
      "for pname in ('V_D', 's_syn', 's'):\n",
      "    monit_granules[pname] = StateMonitor(pop_granules, pname, record=True)\n",
      "for pname in ('s', 'V'):\n",
      "    monit_mitrales[pname] = StateMonitor(pop_mitrales, pname, record=0)\n",
      "monit_mitrales['spikes'] = SpikeMonitor(pop_mitrales, record=True)"
     ],
     "language": "python",
     "metadata": {},
     "outputs": [],
     "prompt_number": 17
    },
    {
     "cell_type": "markdown",
     "metadata": {},
     "source": [
      "Lancement simulation"
     ]
    },
    {
     "cell_type": "code",
     "collapsed": false,
     "input": [
      "run(t_simu, report='text')"
     ],
     "language": "python",
     "metadata": {},
     "outputs": [
      {
       "output_type": "stream",
       "stream": "stdout",
       "text": [
        "9% complete, 10s elapsed, approximately 1m 35s remaining.\n"
       ]
      },
      {
       "output_type": "stream",
       "stream": "stdout",
       "text": [
        "18% complete, 20s elapsed, approximately 1m 25s remaining.\n"
       ]
      },
      {
       "output_type": "stream",
       "stream": "stdout",
       "text": [
        "28% complete, 30s elapsed, approximately 1m 16s remaining.\n"
       ]
      },
      {
       "output_type": "stream",
       "stream": "stdout",
       "text": [
        "37% complete, 40s elapsed, approximately 1m 6s remaining.\n"
       ]
      },
      {
       "output_type": "stream",
       "stream": "stdout",
       "text": [
        "46% complete, 50s elapsed, approximately 56s remaining.\n"
       ]
      },
      {
       "output_type": "stream",
       "stream": "stdout",
       "text": [
        "55% complete, 1m 0s elapsed, approximately 47s remaining.\n"
       ]
      },
      {
       "output_type": "stream",
       "stream": "stdout",
       "text": [
        "64% complete, 1m 10s elapsed, approximately 38s remaining.\n"
       ]
      },
      {
       "output_type": "stream",
       "stream": "stdout",
       "text": [
        "72% complete, 1m 20s elapsed, approximately 29s remaining.\n"
       ]
      },
      {
       "output_type": "stream",
       "stream": "stdout",
       "text": [
        "82% complete, 1m 30s elapsed, approximately 19s remaining.\n"
       ]
      },
      {
       "output_type": "stream",
       "stream": "stdout",
       "text": [
        "91% complete, 1m 40s elapsed, approximately 9s remaining.\n"
       ]
      },
      {
       "output_type": "stream",
       "stream": "stdout",
       "text": [
        "100% complete, 1m 48s elapsed, approximately 0s remaining.\n"
       ]
      }
     ],
     "prompt_number": 18
    },
    {
     "cell_type": "markdown",
     "metadata": {},
     "source": [
      "## R\u00e9sultats"
     ]
    },
    {
     "cell_type": "markdown",
     "metadata": {},
     "source": [
      "Dynamique du potentiel membranaire de la granule"
     ]
    },
    {
     "cell_type": "code",
     "collapsed": false,
     "input": [
      "figure()\n",
      "plot(monit_granules['V_D'].times/msecond, monit_granules['V_D'][0]/mvolt)\n",
      "xlabel('time (ms)')\n",
      "ylabel('membrane potential of granule : V_D (mvolt)')"
     ],
     "language": "python",
     "metadata": {},
     "outputs": [
      {
       "output_type": "pyout",
       "prompt_number": 19,
       "text": [
        "<matplotlib.text.Text at 0x75831d0>"
       ]
      }
     ],
     "prompt_number": 19
    },
    {
     "cell_type": "markdown",
     "metadata": {},
     "source": [
      "Spikes de la population de mitrales"
     ]
    },
    {
     "cell_type": "code",
     "collapsed": false,
     "input": [
      "figure()\n",
      "plot(monit_mitrales['V'].times / msecond, monit_mitrales['V'][0]/mvolt)\n",
      "xlabel('time (ms)')\n",
      "ylabel('membrane potential of mitral : V (mvolt)')"
     ],
     "language": "python",
     "metadata": {},
     "outputs": [
      {
       "output_type": "pyout",
       "prompt_number": 20,
       "text": [
        "<matplotlib.text.Text at 0x9a46850>"
       ]
      }
     ],
     "prompt_number": 20
    },
    {
     "cell_type": "code",
     "collapsed": false,
     "input": [
      "figure()\n",
      "plot(monit_mitrales['s'].times / msecond, monit_mitrales['s'][0])\n",
      "plot(monit_granules['s_syn'].times / msecond, monit_granules['s_syn'][0])\n",
      "plot(monit_granules['s'].times / msecond, monit_granules['s'][0])\n",
      "xlabel('time (ms)')\n",
      "ylabel('s mitral & s_syn granule & s granule')"
     ],
     "language": "python",
     "metadata": {},
     "outputs": [
      {
       "output_type": "pyout",
       "prompt_number": 21,
       "text": [
        "<matplotlib.text.Text at 0x9a74910>"
       ]
      }
     ],
     "prompt_number": 21
    },
    {
     "cell_type": "code",
     "collapsed": false,
     "input": [
      "print 'Spikes of', N_mitral, ' mitral:', monit_mitrales['spikes'].nspikes\n",
      "raster_plot(newfigure=True)"
     ],
     "language": "python",
     "metadata": {},
     "outputs": [
      {
       "output_type": "stream",
       "stream": "stdout",
       "text": [
        "Spikes of 100  mitral: 1082\n"
       ]
      }
     ],
     "prompt_number": 22
    },
    {
     "cell_type": "code",
     "collapsed": false,
     "input": [
      "show()"
     ],
     "language": "python",
     "metadata": {},
     "outputs": [],
     "prompt_number": 23
    }
   ],
   "metadata": {}
  }
 ]
}