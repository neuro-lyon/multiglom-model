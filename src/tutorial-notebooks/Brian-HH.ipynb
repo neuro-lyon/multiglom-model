{
 "metadata": {
  "name": "Brian-HH"
 },
 "nbformat": 3,
 "nbformat_minor": 0,
 "worksheets": [
  {
   "cells": [
    {
     "cell_type": "markdown",
     "metadata": {},
     "source": [
      "# [Example: Hodgkin-Huxley](http://briansimulator.org/docs/examples-misc_HodgkinHuxley.html)"
     ]
    },
    {
     "cell_type": "code",
     "collapsed": false,
     "input": [
      "from brian import *\n",
      "from brian.library.ionic_currents import *"
     ],
     "language": "python",
     "metadata": {},
     "outputs": [
      {
       "output_type": "stream",
       "stream": "stderr",
       "text": [
        "/usr/lib/pymodules/python2.7/brian/utils/sparse_patch/__init__.py:36: UserWarning: Couldn't find matching sparse matrix patch for scipy version 0.10.1, but in most cases this shouldn't be a problem.\n",
        "  warnings.warn(\"Couldn't find matching sparse matrix patch for scipy version %s, but in most cases this shouldn't be a problem.\" % scipy.__version__)\n"
       ]
      }
     ],
     "prompt_number": 1
    },
    {
     "cell_type": "markdown",
     "metadata": {},
     "source": [
      "## Parameters"
     ]
    },
    {
     "cell_type": "code",
     "collapsed": false,
     "input": [
      "defaultclock.dt = .01 * ms\n",
      "El = 10.6 * mV\n",
      "EK = -12 * mV\n",
      "ENa = 120 * mV"
     ],
     "language": "python",
     "metadata": {},
     "outputs": [],
     "prompt_number": 2
    },
    {
     "cell_type": "markdown",
     "metadata": {},
     "source": [
      "## Model"
     ]
    },
    {
     "cell_type": "code",
     "collapsed": false,
     "input": [
      "eqs = MembraneEquation(1 * uF) + leak_current(.3 * msiemens, El)\n",
      "eqs += K_current_HH(36 * msiemens, EK) + Na_current_HH(120 * msiemens, ENa)\n",
      "eqs += Current('I:amp')\n",
      "\n",
      "neuron = NeuronGroup(1, eqs, implicit=True, freeze=True)"
     ],
     "language": "python",
     "metadata": {},
     "outputs": [],
     "prompt_number": 3
    },
    {
     "cell_type": "markdown",
     "metadata": {},
     "source": [
      "## Monitoring"
     ]
    },
    {
     "cell_type": "code",
     "collapsed": false,
     "input": [
      "trace = StateMonitor(neuron, 'vm', record=True)"
     ],
     "language": "python",
     "metadata": {},
     "outputs": [],
     "prompt_number": 4
    },
    {
     "cell_type": "markdown",
     "metadata": {},
     "source": [
      "## Simulation"
     ]
    },
    {
     "cell_type": "code",
     "collapsed": false,
     "input": [
      "run(100 * ms, report='text')\n",
      "neuron.I = 10 * uA\n",
      "run(100 * ms, report='text')\n",
      "neuron.I = 1e-5 * uA\n",
      "run(200 * ms, report='text')"
     ],
     "language": "python",
     "metadata": {},
     "outputs": [
      {
       "output_type": "stream",
       "stream": "stdout",
       "text": [
        "85% complete, 10s elapsed, approximately 1s remaining.\n"
       ]
      },
      {
       "output_type": "stream",
       "stream": "stdout",
       "text": [
        "100% complete, 11s elapsed, approximately 0s remaining.\n"
       ]
      },
      {
       "output_type": "stream",
       "stream": "stdout",
       "text": [
        "86% complete, 10s elapsed, approximately 1s remaining.\n"
       ]
      },
      {
       "output_type": "stream",
       "stream": "stdout",
       "text": [
        "100% complete, 11s elapsed, approximately 0s remaining.\n"
       ]
      },
      {
       "output_type": "stream",
       "stream": "stdout",
       "text": [
        "43% complete, 10s elapsed, approximately 12s remaining.\n"
       ]
      },
      {
       "output_type": "stream",
       "stream": "stdout",
       "text": [
        "84% complete, 20s elapsed, approximately 3s remaining.\n"
       ]
      },
      {
       "output_type": "stream",
       "stream": "stdout",
       "text": [
        "100% complete, 23s elapsed, approximately 0s remaining.\n"
       ]
      }
     ],
     "prompt_number": 5
    },
    {
     "cell_type": "markdown",
     "metadata": {},
     "source": [
      "## Results"
     ]
    },
    {
     "cell_type": "code",
     "collapsed": false,
     "input": [
      "plot(trace.times / ms, trace[0] / mV)\n",
      "show()"
     ],
     "language": "python",
     "metadata": {},
     "outputs": [],
     "prompt_number": 6
    }
   ],
   "metadata": {}
  }
 ]
}