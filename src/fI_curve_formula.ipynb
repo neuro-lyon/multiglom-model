{
 "metadata": {
  "name": "fI_curve_formula"
 },
 "nbformat": 3,
 "nbformat_minor": 0,
 "worksheets": [
  {
   "cells": [
    {
     "cell_type": "code",
     "collapsed": false,
     "input": [
      "from scipy import *\n",
      "from model.parameters import Mitral\n",
      "from brian import *\n",
      "psmt = Mitral()"
     ],
     "language": "python",
     "metadata": {},
     "outputs": [],
     "prompt_number": 1
    },
    {
     "cell_type": "code",
     "collapsed": false,
     "input": [
      "tau_m = linspace(psmt.C_m / psmt.g_L, psmt.C_m / psmt.g_L * 10, 10)\n",
      "R_m   = 1./psmt.g_L\n",
      "E_L   = psmt.E_L\n",
      "V_r   = psmt.V_r\n",
      "V_t   = psmt.V_t\n",
      "tau_ref = psmt.t_refract"
     ],
     "language": "python",
     "metadata": {},
     "outputs": [],
     "prompt_number": 2
    },
    {
     "cell_type": "code",
     "collapsed": false,
     "input": [
      "currents = array(linspace(1e-10, 0.04, 10000))"
     ],
     "language": "python",
     "metadata": {},
     "outputs": [],
     "prompt_number": 3
    },
    {
     "cell_type": "code",
     "collapsed": false,
     "input": [
      "def f_isi(I_e, tau_m):\n",
      "    mask = (R_m*I_e + E_L - V_t)>0.\n",
      "    tmp=zeros(I_e.shape)\n",
      "    return r_[tmp[~mask],1./(tau_ref+tau_m*log((R_m*I_e[mask] + E_L - V_r)/(R_m*I_e[mask] + E_L - V_t)))]"
     ],
     "language": "python",
     "metadata": {},
     "outputs": [],
     "prompt_number": 4
    },
    {
     "cell_type": "code",
     "collapsed": false,
     "input": [
      "for i in xrange(10):\n",
      "    plot(currents, f_isi(currents, tau_m[i]), label=\"tau_m = \"+str(tau_m[i]))\n",
      "    legend()\n",
      "show()"
     ],
     "language": "python",
     "metadata": {},
     "outputs": [],
     "prompt_number": 5
    },
    {
     "cell_type": "code",
     "collapsed": false,
     "input": [],
     "language": "python",
     "metadata": {},
     "outputs": [],
     "prompt_number": 5
    }
   ],
   "metadata": {}
  }
 ]
}