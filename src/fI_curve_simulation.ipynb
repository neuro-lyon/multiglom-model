{
 "metadata": {
  "name": "fI_curve_simulation"
 },
 "nbformat": 3,
 "nbformat_minor": 0,
 "worksheets": [
  {
   "cells": [
    {
     "cell_type": "code",
     "collapsed": false,
     "input": [
      "from brian import *\n",
      "from model.mitral_cells import MitralCells\n",
      "from model.parameters import Mitral\n",
      "\n",
      "psmt = Mitral()"
     ],
     "language": "python",
     "metadata": {},
     "outputs": [],
     "prompt_number": 1
    },
    {
     "cell_type": "markdown",
     "metadata": {},
     "source": [
      "## Parameters"
     ]
    },
    {
     "cell_type": "code",
     "collapsed": false,
     "input": [
      "N_mitral = 100\n",
      "istart = 0.*amp*meter**-2\n",
      "istop = 0.01*amp*meter**-2\n",
      "period = 2.*second\n",
      "\n",
      "N_trial = 1\n",
      "N_tot = N_mitral*N_trial\n",
      "nt_refract = linspace(psmt.t_refract, 10*psmt.t_refract, N_trial)"
     ],
     "language": "python",
     "metadata": {},
     "outputs": [],
     "prompt_number": 2
    },
    {
     "cell_type": "markdown",
     "metadata": {},
     "source": [
      "## Mitral cell population"
     ]
    },
    {
     "cell_type": "code",
     "collapsed": false,
     "input": [
      "mt = MitralCells()"
     ],
     "language": "python",
     "metadata": {},
     "outputs": [],
     "prompt_number": 3
    },
    {
     "cell_type": "code",
     "collapsed": false,
     "input": [
      "mt.add_eqs({'var': ['+I_electrode'], 'eqs' : ['I_electrode : amp*meter**-2']})"
     ],
     "language": "python",
     "metadata": {},
     "outputs": [],
     "prompt_number": 4
    },
    {
     "cell_type": "code",
     "collapsed": false,
     "input": [
      "mt.make_pop(N_tot)\n",
      "currents = array(list(linspace(istart, istop, N_mitral))*N_trial)\n",
      "for i in xrange(N_trial):\n",
      "    mt.pop.I_electrode = currents\n",
      "mt.pop.V = psmt.E_L"
     ],
     "language": "python",
     "metadata": {},
     "outputs": [],
     "prompt_number": 5
    },
    {
     "cell_type": "code",
     "collapsed": false,
     "input": [
      "rneuron = [0, int(N_tot/2), N_tot-1]\n",
      "monitV = StateMonitor(mt.pop, 'V', record = rneuron)\n",
      "monit_spikes = SpikeMonitor(mt.pop, record=True)"
     ],
     "language": "python",
     "metadata": {},
     "outputs": [],
     "prompt_number": 6
    },
    {
     "cell_type": "markdown",
     "metadata": {},
     "source": [
      "## Network simulation"
     ]
    },
    {
     "cell_type": "code",
     "collapsed": false,
     "input": [
      "defaultclock.dt = 0.05*msecond\n",
      "netw = Network(mt.pop,  monit_spikes, monitV)\n",
      "netw.run(period, report='text')"
     ],
     "language": "python",
     "metadata": {},
     "outputs": [
      {
       "output_type": "stream",
       "stream": "stdout",
       "text": [
        "100% complete, 7s elapsed, approximately 0s remaining.\n"
       ]
      }
     ],
     "prompt_number": 7
    },
    {
     "cell_type": "markdown",
     "metadata": {},
     "source": [
      "## Results"
     ]
    },
    {
     "cell_type": "markdown",
     "metadata": {},
     "source": [
      "Spikes"
     ]
    },
    {
     "cell_type": "code",
     "collapsed": false,
     "input": [
      "print monit_spikes.nspikes, 'spikes'\n",
      "figure()\n",
      "raster_plot(monit_spikes)"
     ],
     "language": "python",
     "metadata": {},
     "outputs": [
      {
       "output_type": "stream",
       "stream": "stdout",
       "text": [
        "2557 spikes\n"
       ]
      }
     ],
     "prompt_number": 8
    },
    {
     "cell_type": "markdown",
     "metadata": {},
     "source": [
      "Membrane potential"
     ]
    },
    {
     "cell_type": "code",
     "collapsed": false,
     "input": [
      "figure()\n",
      "for i in rneuron:\n",
      "    plot(monitV.times/msecond, monitV[i]/mvolt)\n",
      "xlabel('time (ms)')\n",
      "ylabel('mitral membrane potential (mvolt)')"
     ],
     "language": "python",
     "metadata": {},
     "outputs": [
      {
       "output_type": "pyout",
       "prompt_number": 9,
       "text": [
        "<matplotlib.text.Text at 0x51ca650>"
       ]
      }
     ],
     "prompt_number": 9
    },
    {
     "cell_type": "markdown",
     "metadata": {},
     "source": [
      "fI curve"
     ]
    },
    {
     "cell_type": "code",
     "collapsed": false,
     "input": [
      "freqs = []\n",
      "stimes = monit_spikes.spiketimes\n",
      "for neuron in stimes:\n",
      "    freqs += [len(stimes[neuron])/period]\n",
      "figure()\n",
      "plot(array(currents)/(amp*meter**-2), array(freqs)/second**-1)\n",
      "xlabel('current I (amp*meter**-2)')\n",
      "ylabel('frequency f (Hz)')\n",
      "show()"
     ],
     "language": "python",
     "metadata": {},
     "outputs": [],
     "prompt_number": 10
    },
    {
     "cell_type": "code",
     "collapsed": false,
     "input": [
      "\n"
     ],
     "language": "python",
     "metadata": {},
     "outputs": [],
     "prompt_number": 10
    }
   ],
   "metadata": {}
  }
 ]
}