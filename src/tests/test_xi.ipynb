{
 "metadata": {
  "name": "test_xi"
 },
 "nbformat": 3,
 "nbformat_minor": 0,
 "worksheets": [
  {
   "cells": [
    {
     "cell_type": "code",
     "collapsed": false,
     "input": [
      "from brian import *"
     ],
     "language": "python",
     "metadata": {},
     "outputs": [
      {
       "output_type": "stream",
       "stream": "stderr",
       "text": [
        "/usr/lib/pymodules/python2.7/brian/utils/sparse_patch/__init__.py:36: UserWarning: Couldn't find matching sparse matrix patch for scipy version 0.10.1, but in most cases this shouldn't be a problem.\n",
        "  warnings.warn(\"Couldn't find matching sparse matrix patch for scipy version %s, but in most cases this shouldn't be a problem.\" % scipy.__version__)\n"
       ]
      }
     ],
     "prompt_number": 1
    },
    {
     "cell_type": "code",
     "collapsed": false,
     "input": [
      "eqs = Equations(\"\"\"\n",
      "X = xi : second**-.5\n",
      "dg/dt = (g + X*siemens*meter**-2*second**.5)/second : siemens*meter**-2\"\"\"\n",
      ")"
     ],
     "language": "python",
     "metadata": {},
     "outputs": [],
     "prompt_number": 2
    },
    {
     "cell_type": "code",
     "collapsed": false,
     "input": [
      "ng = NeuronGroup(1, model=eqs)\n",
      "ng.g = 0\n",
      "print ng._eqs"
     ],
     "language": "python",
     "metadata": {},
     "outputs": [
      {
       "output_type": "stream",
       "stream": "stdout",
       "text": [
        "dg/dt = (g + (X_xi)*siemens*meter**-2*second**.5)/second [diffeq]\n",
        "X = X_xi [eq]\n",
        "\n"
       ]
      }
     ],
     "prompt_number": 3
    },
    {
     "cell_type": "code",
     "collapsed": false,
     "input": [
      "monit = {}\n",
      "for p in ['g', 'X']:\n",
      "    monit[p] = StateMonitor(ng, p, record=True)"
     ],
     "language": "python",
     "metadata": {},
     "outputs": [],
     "prompt_number": 4
    },
    {
     "cell_type": "code",
     "collapsed": false,
     "input": [
      "run(500*msecond, report=\"text\")"
     ],
     "language": "python",
     "metadata": {},
     "outputs": [
      {
       "output_type": "stream",
       "stream": "stdout",
       "text": [
        "100% complete, 0s elapsed, approximately 0s remaining.\n"
       ]
      }
     ],
     "prompt_number": 5
    },
    {
     "cell_type": "code",
     "collapsed": false,
     "input": [
      "for p in monit:\n",
      "    figure()\n",
      "    monit[p].plot()\n",
      "    ylabel(p)\n",
      "show()"
     ],
     "language": "python",
     "metadata": {},
     "outputs": [],
     "prompt_number": 6
    },
    {
     "cell_type": "raw",
     "metadata": {},
     "source": [
      "pas de variation de X, donc de g non plus.\n",
      "alors que X devrait suivre une loi normale (0, 1)"
     ]
    }
   ],
   "metadata": {}
  }
 ]
}